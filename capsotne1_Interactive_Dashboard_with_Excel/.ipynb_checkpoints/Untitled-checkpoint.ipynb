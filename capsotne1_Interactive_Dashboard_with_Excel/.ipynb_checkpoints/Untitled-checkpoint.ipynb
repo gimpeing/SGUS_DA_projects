{
 "cells": [
  {
   "cell_type": "markdown",
   "metadata": {},
   "source": [
    "### SGUS - NTUC LearningHub - Associate Data Analyst\n",
    "# Capstone 1: Creating Interactive Dashboards and Data Storytelling with Excel\n",
    "## Topics: Success Factor in DonorChoose.org platform\n",
    "\n",
    "The goal of this project is apply and integrate what I have learnt in excel, into my choice of topic to create Interactive Dashboard and Data Storytelling. \n",
    "\n",
    "Project scope:\n",
    "1. Data Collection from various sources\n",
    "2. Business needs gathering\n",
    "3. Story building in relation to business needs\n",
    "4. Data Preparation \n",
    "5. Exploratory Data Analysis using Excel\n",
    "6. Creating Interactive dashboard and Visualization using Excel Dashboard.\n",
    "7. Presenting the insights derived from the EDA using Excel.\n",
    "\n",
    "\n",
    "### 1. Data Collection\n",
    "The dataset is downloaded from kaggle:\n",
    "[Data Science for Good: DonorsChoose.org](https://www.kaggle.com/donorschoose/io)\n",
    "\n",
    "[DonorsChoose.org](https://www.donorschoose.org/) is a United States-based nonprofit organization that allows individual to donate directly to public school classroom projects. Teacher is able ot request materials and resources for their classrooms and makes these project requests through DonorsChoose's website. to raise fund for needed materials for their students. \n",
    "Datasets provided includes details of the donation made, attributes about donors, attributes about projects, atteributes about the schools and teachers. \n",
    "\n",
    "### 2. Business needs gathering\n",
    "This is popular crowdfunding site for schools. Teacher raised a project request, asking for supplies or services for their teaching's needs. Once the project is raised, it has a fixed tiem frame, typically 4 months. Once project is fully funded within the time frame, the materials are sent direclty to schools. \n",
    "\n",
    "\n",
    "### 3. Story building in relation to business needs\n",
    "The goal of my project is to study the dataset that DonorChooe shared with Kaggle to find out the hidden inshights of the success factor of fully funded project. This is to help the teacher in need to stand a better chance to get funded on the project that they work on, for the benefit of student.\n",
    "\n",
    "### 4. Data preparation.\n",
    "The datasets are huge, which covers 6 years of data (2013 - 2018). In this project, I only excract 2017 data as excel has the limit of rows per worksheet. Data cleaning is required as there are duplicated data, missing value. \n",
    "\n",
    "### 5. EDA and dashboard creation using Excel\n",
    "Exploratory analysis is carried out to explore three datasets, Project, School and Donors. Interactive dashboard was built and insights observed listed in the summary section.\n",
    "\n",
    "### Summary:\n",
    "- Project that fail to get fully funded within the time frame has higher average cost.\n",
    "- Higher project success rate in rural/ urban area, compared to town.\n",
    "- Higher project success rate on request fund to purchase necessity like classroom basics, food, sports equipment. \n",
    "- Higher number of projects posted in themonths of Aug- Oct, but project postedin Dec is having higher success rate. \n",
    "- Largest amount of docatoin came from California.\n"
   ]
  },
  {
   "cell_type": "code",
   "execution_count": null,
   "metadata": {},
   "outputs": [],
   "source": []
  }
 ],
 "metadata": {
  "kernelspec": {
   "display_name": "Python 3",
   "language": "python",
   "name": "python3"
  },
  "language_info": {
   "codemirror_mode": {
    "name": "ipython",
    "version": 3
   },
   "file_extension": ".py",
   "mimetype": "text/x-python",
   "name": "python",
   "nbconvert_exporter": "python",
   "pygments_lexer": "ipython3",
   "version": "3.7.4"
  }
 },
 "nbformat": 4,
 "nbformat_minor": 2
}
